{
 "nbformat": 4,
 "nbformat_minor": 2,
 "metadata": {
  "language_info": {
   "name": "python",
   "codemirror_mode": {
    "name": "ipython",
    "version": 3
   }
  },
  "orig_nbformat": 2,
  "file_extension": ".py",
  "mimetype": "text/x-python",
  "name": "python",
  "npconvert_exporter": "python",
  "pygments_lexer": "ipython3",
  "version": 3
 },
 "cells": [
  {
   "cell_type": "code",
   "execution_count": null,
   "metadata": {},
   "outputs": [],
   "source": [
    "import os\n",
    "import pandas as pd\n",
    "import numpy as np\n",
    "\n",
    "from IPython import get_ipython\n",
    "\n",
    "\n",
    "from sklearn.metrics import mean_absolute_error as mae\n",
    "\n",
    "import matplotlib.pyplot as plt\n",
    "get_ipython().run_line_magic('matplotlib', 'inline')\n",
    "\n",
    "import seaborn as sns\n",
    "sns.set()\n",
    "\n",
    "import plotly\n",
    "import plotly.express as px\n",
    "import plotly.graph_objs as go\n",
    "from plotly.offline import download_plotlyjs, init_notebook_mode, plot, iplot\n",
    "import plotly.io as pio\n",
    "init_notebook_mode(connected=True)\n",
    "plotly.offline.init_notebook_mode(connected=True)"
   ]
  },
  {
   "cell_type": "code",
   "execution_count": null,
   "metadata": {},
   "outputs": [],
   "source": [
    "path = './data/time_series_20200323.csv'\n",
    "df = pd.read_csv(path)\n",
    "df['date'] = pd.to_datetime(df['date'])\n",
    "df.head(10)"
   ]
  },
  {
   "cell_type": "code",
   "execution_count": null,
   "metadata": {},
   "outputs": [],
   "source": [
    "df_poland = df[df['country']=='Poland']"
   ]
  },
  {
   "cell_type": "code",
   "execution_count": null,
   "metadata": {},
   "outputs": [],
   "source": [
    "plot([{'x':df_poland.date, 'y':df_poland.confirmed}], filename='plots/pl_confirmed')\n"
   ]
  },
  {
   "cell_type": "code",
   "execution_count": null,
   "metadata": {},
   "outputs": [],
   "source": [
    "fig = go.Figure(data=go.Scatter(x=df_poland.date, y=df_poland.confirmed,\n",
    "                    mode='lines+markers',\n",
    "                    name='lines+markers'))\n",
    "\n",
    "plot(fig,filename='plots/pl_confirmed')"
   ]
  },
  {
   "cell_type": "code",
   "execution_count": null,
   "metadata": {},
   "outputs": [],
   "source": [
    "def linear_func(values, k=None, b=0):\n",
    "    mean_values = np.mean(values)\n",
    "    if k is None:\n",
    "        return [mean_values] * len(values)\n",
    "    \n",
    "    return [idx*k+b for idx, _ in enumerate(values)]"
   ]
  },
  {
   "cell_type": "code",
   "execution_count": null,
   "metadata": {},
   "outputs": [],
   "source": [
    "print('mean', mae(df_poland.confirmed, linear_func(df_poland.confirmed)))\n",
    "print('linear', mae(df_poland.confirmed, linear_func(df_poland.confirmed, k=0, b=0)))"
   ]
  },
  {
   "cell_type": "code",
   "execution_count": null,
   "metadata": {},
   "outputs": [],
   "source": [
    "best_k = 0\n",
    "best_b = 0\n",
    "best_mae = mae(df_poland.confirmed, linear_func(df_poland.confirmed, k=best_k, b=best_b))\n",
    "\n",
    "for k in np.linspace(0.00001, -1, 1):\n",
    "    for b in np.linspace(0.001, -1, 1):\n",
    "        actual_mae = mae(df_poland.confirmed, linear_func(df_poland.confirmed, k=k, b=b))\n",
    "        if actual_mae < best_mae:\n",
    "            best_mae = actual_mae\n",
    "            best_k = k\n",
    "            best_b = b\n",
    "\n",
    "print(\"Best mae: {} k: {} b: {}\".format(best_mae, best_k, best_b))"
   ]
  },
  {
   "cell_type": "code",
   "execution_count": null,
   "metadata": {},
   "outputs": [],
   "source": [
    "df_countries = df.groupby(['country','date'], as_index=False)['confirmed'].sum()"
   ]
  },
  {
   "cell_type": "code",
   "execution_count": null,
   "metadata": {},
   "outputs": [],
   "source": [
    "df_countries.head()"
   ]
  },
  {
   "cell_type": "code",
   "execution_count": null,
   "metadata": {},
   "outputs": [],
   "source": [
    "for index, country_group in df_countries.groupby(['country'], as_index=False):\n",
    "    print(index)\n",
    "    print(country_group.size)"
   ]
  },
  {
   "cell_type": "code",
   "execution_count": null,
   "metadata": {},
   "outputs": [],
   "source": [
    "fig = go.Figure()\n",
    "\n",
    "for index, country_group in df_countries.groupby(['country'], as_index=False):\n",
    "    fig.add_trace(go.Scatter(x=country_group.date, y=country_group.confirmed,\n",
    "                    mode='lines+markers',\n",
    "                    name=index))\n",
    "\n",
    "fig.update_layout(template='plotly_dark', title='Szereg czasowy')  \n",
    "plot(fig,filename='plots/global_confirmed')"
   ]
  }
 ]
}